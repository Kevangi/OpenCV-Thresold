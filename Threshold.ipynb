{
 "cells": [
  {
   "cell_type": "code",
   "execution_count": 9,
   "id": "8f63221a-faa5-4d1a-b98a-e5ec24349ca8",
   "metadata": {},
   "outputs": [],
   "source": [
    "import os\n",
    "import cv2\n",
    "import numpy as np\n",
    "from matplotlib import pyplot as plt"
   ]
  },
  {
   "cell_type": "markdown",
   "id": "f76eb3fa-ce61-45b5-9e1e-d20878ace079",
   "metadata": {},
   "source": [
    "# Creating and Displaying a Binary Image in OpenCV"
   ]
  },
  {
   "cell_type": "code",
   "execution_count": 10,
   "id": "df971893-6aa0-4061-8545-e6455c070ca3",
   "metadata": {},
   "outputs": [],
   "source": [
    "# Create a binary image (black(0) and white(255))\n",
    "binary_image = np.array([[255, 255, 0, 0, 0],\n",
    "                         [255, 255, 0, 0, 0],\n",
    "                         [0, 0, 255, 255, 255],\n",
    "                         [0, 0, 255, 255, 255],\n",
    "                         [0, 0, 255, 255, 255]], dtype=np.uint8)\n",
    "\n",
    "# Resize to make it visible\n",
    "binary_image = cv2.resize(binary_image, (300, 300), interpolation=cv2.INTER_NEAREST)\n",
    "\n",
    "# Show the image\n",
    "cv2.imshow('Binary Image', binary_image)\n",
    "cv2.waitKey(0)\n",
    "cv2.destroyAllWindows()\n"
   ]
  },
  {
   "cell_type": "markdown",
   "id": "fb79d35e-87f6-4a13-8fac-21300330d233",
   "metadata": {},
   "source": [
    "cv2.resize(src, dsize, interpolation)\n",
    "\n",
    "* src --> The input image\n",
    "* dsize --> The desired output size (width, height). Here, (200, 200) resizes the image to 200×200 pixels.\n",
    "* interpolation: The method used to resize the image.\n",
    "\n",
    "Why Resize?\n",
    "\n",
    "* The original binary_image is a small 5×5 pixel image.\n",
    "* To make it more visible, we enlarge it to 200×200 pixels.\n",
    "\n",
    "cv2.INTER_NEAREST (Nearest-Neighbor Interpolation)\n",
    "\n",
    "* This is a fast and simple interpolation method that assigns the value of the nearest pixel to the new pixel.\n",
    "* It preserves the sharp edges of binary images (black-and-white images).\n",
    "* Unlike other interpolation methods like cv2.INTER_LINEAR, it does not introduce new pixel values, keeping the binary structure intact."
   ]
  },
  {
   "cell_type": "markdown",
   "id": "22c3da30-0974-4412-82e0-82e9eafcba38",
   "metadata": {},
   "source": [
    "How Nearest-Neighbor Interpolation Works (cv2.INTER_NEAREST)\n",
    "\n",
    "* When an image is resized using nearest-neighbor interpolation, each new pixel takes the value of the closest pixel from the original image. There       is no averaging, blending, or smoothing—it simply copies the nearest pixel's value.\n",
    "\n",
    "* Nearest-neighbor interpolation is simple: it just copies the closest pixel's value.\n",
    "\n",
    "* No new colors or shades are introduced, making it ideal for binary images (black & white) and pixel art.\n",
    "\n",
    "* Scaling up: Expands each pixel into larger blocks.\n",
    "\n",
    "* Scaling down: Some pixels are dropped, keeping the nearest match."
   ]
  },
  {
   "cell_type": "markdown",
   "id": "16930e09-2e0f-46bc-8357-eca708aed6d4",
   "metadata": {},
   "source": [
    "# Threshold\n",
    "\n",
    "* Thresholding is a technique in image processing that converts a grayscale image into a binary image by applying a fixed or adaptive threshold value.    It helps in object segmentation, edge detection, and noise reduction.\n"
   ]
  },
  {
   "cell_type": "markdown",
   "id": "5aa42573-af17-4201-abf9-bafb2bfd77d1",
   "metadata": {},
   "source": [
    "# Simple Threshold\n",
    "\n",
    "* Here It is straight forward approch.\n",
    "* For every pixel, the same threshold value is applied.\n",
    "* The function cv.threshold is used to apply the thresholding.\n",
    "* The first argument is the source image, which should be a grayscale image.\n",
    "* The second argument is the threshold value which is used to classify the pixel values. \n",
    "* The third argument is the maximum value which is assigned to pixel values exceeding the threshold.\n",
    "* OpenCV provides different types of thresholding which is given by the fourth parameter of the function.\n",
    "\n",
    "1. cv.THRESH_BINARY\n",
    "   * Pixels above threshold → White (255)\n",
    "   * Pixels below threshold → Black (0)\n",
    "2. cv.THRESH_BINARY_INV (Inverse)\n",
    "   * Pixels above threshold → Black (0)\n",
    "   * Pixels below threshold → White (255)\n",
    "3. cv.THRESH_TRUNC\n",
    "   * Pixels above threshold → Set to T\n",
    "   * Pixels below threshold → Unchanged\n",
    "4. cv.THRESH_TOZERO\n",
    "   * Pixels below threshold → Set to 0\n",
    "   * Pixels above threshold → Unchanged\n",
    "5. cv.THRESH_TOZERO_INV\n",
    "   * Pixels above threshold → Set to 0\n",
    "   * Pixels below threshold → Unchanged"
   ]
  },
  {
   "cell_type": "code",
   "execution_count": null,
   "id": "244cf4a8-e24b-4e25-8f8c-8ece1e61fec7",
   "metadata": {},
   "outputs": [],
   "source": []
  },
  {
   "cell_type": "code",
   "execution_count": 14,
   "id": "552cc720-0573-4f88-9d54-11ef6d39865c",
   "metadata": {},
   "outputs": [],
   "source": [
    "img = cv2.imread(os.path.join('.', 'img', 'giraffe.jpg'))"
   ]
  },
  {
   "cell_type": "code",
   "execution_count": 17,
   "id": "33b5f601-6430-4e89-86c9-b9cb1a678943",
   "metadata": {},
   "outputs": [],
   "source": [
    "img_gray = cv2.cvtColor(img, cv2.COLOR_BGR2GRAY)\n",
    "\n",
    "ret, thresh = cv2.threshold(img_gray, 130, 255, cv2.THRESH_BINARY)"
   ]
  },
  {
   "cell_type": "code",
   "execution_count": 18,
   "id": "7d470165-93c7-4577-872d-743904c95a6b",
   "metadata": {},
   "outputs": [
    {
     "data": {
      "text/plain": [
       "-1"
      ]
     },
     "execution_count": 18,
     "metadata": {},
     "output_type": "execute_result"
    }
   ],
   "source": [
    "cv2.namedWindow('img', cv2.WINDOW_NORMAL)\n",
    "cv2.resizeWindow('img', 800, 600)\n",
    "\n",
    "cv2.namedWindow('thresh', cv2.WINDOW_NORMAL)\n",
    "cv2.resizeWindow('thresh', 800, 600)\n",
    "\n",
    "cv2.imshow('img', img)\n",
    "cv2.imshow('thresh', thresh)\n",
    "cv2.waitKey(0)"
   ]
  },
  {
   "cell_type": "code",
   "execution_count": null,
   "id": "d2469138-c55a-442d-b8e1-e2af581d66ea",
   "metadata": {},
   "outputs": [],
   "source": []
  }
 ],
 "metadata": {
  "kernelspec": {
   "display_name": "Python 3 (ipykernel)",
   "language": "python",
   "name": "python3"
  },
  "language_info": {
   "codemirror_mode": {
    "name": "ipython",
    "version": 3
   },
   "file_extension": ".py",
   "mimetype": "text/x-python",
   "name": "python",
   "nbconvert_exporter": "python",
   "pygments_lexer": "ipython3",
   "version": "3.12.4"
  }
 },
 "nbformat": 4,
 "nbformat_minor": 5
}
