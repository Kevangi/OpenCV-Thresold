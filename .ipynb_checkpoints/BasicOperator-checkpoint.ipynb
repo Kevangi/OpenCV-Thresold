{
 "cells": [
  {
   "cell_type": "code",
   "execution_count": 1,
   "id": "f30a4ec8-ccd4-48c1-ae99-e5bbafaaf8ac",
   "metadata": {},
   "outputs": [],
   "source": [
    "import os\n",
    "import cv2"
   ]
  },
  {
   "cell_type": "markdown",
   "id": "05de0c10-c0be-4111-ab1c-90269796037a",
   "metadata": {},
   "source": [
    "Resize"
   ]
  },
  {
   "cell_type": "code",
   "execution_count": null,
   "id": "43c30638-df52-4cc1-a1d2-13bf9a7d4ae7",
   "metadata": {},
   "outputs": [],
   "source": [
    "image_path = os.path.join('.', 'img', 'nature.jpg')\n",
    "img = cv2.imread(image_path)\n",
    "resizedImg = cv2.resize(img, (640, 480))\n",
    "print(img.shape)\n",
    "print(resizedImg.shape)\n",
    "cv2.imshow('img', img)\n",
    "cv2.imshow('resizedImg', img)\n",
    "cv2.waitKey(4000)\n"
   ]
  },
  {
   "cell_type": "code",
   "execution_count": null,
   "id": "41388f9f-bfa5-45ff-ad92-7eb6075740dd",
   "metadata": {},
   "outputs": [],
   "source": [
    "# Load image\n",
    "image_path = os.path.join('.', 'img', 'nature.jpg')\n",
    "img = cv2.imread(image_path)\n",
    "\n",
    "# Check if image was loaded successfully\n",
    "if img is None:\n",
    "    print(f\"Error: Image not found at {image_path}\")\n",
    "    exit()\n",
    "\n",
    "# Resize image\n",
    "resizedImg = cv2.resize(img, (640, 480))\n",
    "\n",
    "# Print shapes\n",
    "print(f\"Original Image Shape: {img.shape}\")\n",
    "print(f\"Resized Image Shape: {resizedImg.shape}\")\n",
    "\n",
    "# Create resizable windows\n",
    "cv2.namedWindow('Original Image', cv2.WINDOW_NORMAL)\n",
    "cv2.namedWindow('Resized Image', cv2.WINDOW_NORMAL)\n",
    "\n",
    "# Resize windows to half screen\n",
    "cv2.resizeWindow('Original Image', 960, 540)  # Adjust as needed\n",
    "cv2.resizeWindow('Resized Image', 640, 480)   # Fixed size\n",
    "\n",
    "# Show images\n",
    "cv2.imshow('Original Image', img)\n",
    "cv2.imshow('Resized Image', resizedImg)\n",
    "\n",
    "# Wait and close\n",
    "cv2.waitKey(9000)\n",
    "cv2.destroyAllWindows()\n"
   ]
  },
  {
   "cell_type": "markdown",
   "id": "e696975a-4027-4f87-8387-10c71dae1df2",
   "metadata": {},
   "source": [
    "Crop"
   ]
  },
  {
   "cell_type": "code",
   "execution_count": 3,
   "id": "248233da-e416-41d2-a123-20b6bcd6484c",
   "metadata": {},
   "outputs": [],
   "source": [
    "img = cv2.imread(os.path.join('.', 'img', 'nature.jpg'))\n",
    "cv2.namedWindow('Original Image', cv2.WINDOW_NORMAL)\n",
    "cv2.imshow('Original Image', img)\n",
    "cv2.waitKey(4000)\n",
    "cv2.destroyAllWindows()"
   ]
  },
  {
   "cell_type": "code",
   "execution_count": null,
   "id": "5d668a47-66ae-42da-af10-b3d9ddc651c5",
   "metadata": {},
   "outputs": [],
   "source": []
  }
 ],
 "metadata": {
  "kernelspec": {
   "display_name": "Python 3 (ipykernel)",
   "language": "python",
   "name": "python3"
  },
  "language_info": {
   "codemirror_mode": {
    "name": "ipython",
    "version": 3
   },
   "file_extension": ".py",
   "mimetype": "text/x-python",
   "name": "python",
   "nbconvert_exporter": "python",
   "pygments_lexer": "ipython3",
   "version": "3.12.4"
  }
 },
 "nbformat": 4,
 "nbformat_minor": 5
}
