{
 "cells": [
  {
   "cell_type": "code",
   "execution_count": 1,
   "id": "631eb318-03a3-4842-b330-7dcee2ece5de",
   "metadata": {},
   "outputs": [],
   "source": [
    "import os\n",
    "import cv2"
   ]
  },
  {
   "cell_type": "code",
   "execution_count": 2,
   "id": "b35d69df-4214-4d88-b624-a27144028d0a",
   "metadata": {},
   "outputs": [],
   "source": [
    "img = cv2.imread(os.path.join('.', 'img', 'parrot.jpg'))\n",
    "\n",
    "cv2.namedWindow('img', cv2.WINDOW_NORMAL)\n",
    "cv2.resizeWindow('img', 800, 600)"
   ]
  },
  {
   "cell_type": "code",
   "execution_count": 3,
   "id": "b095cdf2-5923-46df-afb9-82653faeb538",
   "metadata": {},
   "outputs": [],
   "source": [
    "k_size = 20\n",
    "img_blur = cv2.blur(img,(k_size, k_size))"
   ]
  },
  {
   "cell_type": "code",
   "execution_count": 4,
   "id": "d80ec2b6-e909-49c9-b42b-547620d6f1cf",
   "metadata": {},
   "outputs": [],
   "source": [
    "cv2.namedWindow('img_blur', cv2.WINDOW_NORMAL)\n",
    "cv2.resizeWindow('img_blur', 800, 600)"
   ]
  },
  {
   "cell_type": "code",
   "execution_count": 5,
   "id": "944065d6-86a0-469f-9b4e-da5717401bdb",
   "metadata": {},
   "outputs": [
    {
     "data": {
      "text/plain": [
       "-1"
      ]
     },
     "execution_count": 5,
     "metadata": {},
     "output_type": "execute_result"
    }
   ],
   "source": [
    "cv2.imshow('img', img)\n",
    "cv2.imshow('img_blur', img_blur)\n",
    "cv2.waitKey(0)"
   ]
  },
  {
   "cell_type": "code",
   "execution_count": null,
   "id": "72cd2a3a-2757-421a-9a1a-7d4f0dccab9b",
   "metadata": {},
   "outputs": [],
   "source": []
  }
 ],
 "metadata": {
  "kernelspec": {
   "display_name": "Python 3 (ipykernel)",
   "language": "python",
   "name": "python3"
  },
  "language_info": {
   "codemirror_mode": {
    "name": "ipython",
    "version": 3
   },
   "file_extension": ".py",
   "mimetype": "text/x-python",
   "name": "python",
   "nbconvert_exporter": "python",
   "pygments_lexer": "ipython3",
   "version": "3.12.4"
  }
 },
 "nbformat": 4,
 "nbformat_minor": 5
}
