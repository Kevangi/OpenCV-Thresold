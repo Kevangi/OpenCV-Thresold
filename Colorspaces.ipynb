{
 "cells": [
  {
   "cell_type": "code",
   "execution_count": 1,
   "id": "a5d86f58-c311-4677-9736-c898cb99c84e",
   "metadata": {},
   "outputs": [],
   "source": [
    "import os\n",
    "import cv2"
   ]
  },
  {
   "cell_type": "code",
   "execution_count": 6,
   "id": "9258ae87-d17d-4138-a256-289080ed5a70",
   "metadata": {},
   "outputs": [],
   "source": [
    "img = cv2.imread(os.path.join('.', 'img', 'peacock_feather.jpg'))\n",
    "\n",
    "# Original Image\n",
    "cv2.namedWindow('Original Image', cv2.WINDOW_NORMAL)\n",
    "cv2.resizeWindow('Original Image', 800, 600)  # Resize the window\n",
    "\n",
    "# BGR to RGB Image\n",
    "# img_rgb = cv2.cvtColor(img, cv2.COLOR_BGR2RGB)\n",
    "# cv2.namedWindow('img_rgb', cv2.WINDOW_NORMAL)\n",
    "# cv2.resizeWindow('img_rgb', 800, 600)\n",
    "\n",
    "# BGR to Gray Image\n",
    "# img_gray = cv2.cvtColor(img, cv2.COLOR_BGR2GRAY)\n",
    "# cv2.namedWindow('img_gray', cv2.WINDOW_NORMAL)\n",
    "# cv2.resizeWindow('img_gray', 800, 600)\n",
    "\n",
    "# BGR to HSV Image\n",
    "img_hsv = cv2.cvtColor(img, cv2.COLOR_BGR2HSV)\n",
    "cv2.namedWindow('img_hsv', cv2.WINDOW_NORMAL)\n",
    "cv2.resizeWindow('img_hsv', 800, 600)\n",
    "\n",
    "cv2.imshow('Original Image', img)\n",
    "# cv2.imshow('img_rgb', img_rgb)\n",
    "# cv2.imshow('img_gray', img_gray)\n",
    "cv2.imshow('img_hsv', img_hsv)\n",
    "\n",
    "cv2.waitKey(30000)\n",
    "cv2.destroyAllWindows()"
   ]
  },
  {
   "cell_type": "code",
   "execution_count": null,
   "id": "e9c145bd-aa16-4a4a-b542-e05cbad1e4be",
   "metadata": {},
   "outputs": [],
   "source": []
  }
 ],
 "metadata": {
  "kernelspec": {
   "display_name": "Python 3 (ipykernel)",
   "language": "python",
   "name": "python3"
  },
  "language_info": {
   "codemirror_mode": {
    "name": "ipython",
    "version": 3
   },
   "file_extension": ".py",
   "mimetype": "text/x-python",
   "name": "python",
   "nbconvert_exporter": "python",
   "pygments_lexer": "ipython3",
   "version": "3.12.4"
  }
 },
 "nbformat": 4,
 "nbformat_minor": 5
}
