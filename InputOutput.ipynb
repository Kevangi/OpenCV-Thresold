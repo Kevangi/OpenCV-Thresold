{
 "cells": [
  {
   "cell_type": "code",
   "execution_count": 1,
   "id": "7e0e53d5-bc4d-4425-a0a7-f8e8235ba0b7",
   "metadata": {},
   "outputs": [],
   "source": [
    "import os\n",
    "import cv2"
   ]
  },
  {
   "cell_type": "markdown",
   "id": "d73431c4-d9b3-4d5c-96e2-349e38b5edfa",
   "metadata": {},
   "source": [
    "## Images"
   ]
  },
  {
   "cell_type": "markdown",
   "id": "aad063d7-c394-4c03-8045-e63f596f86d9",
   "metadata": {},
   "source": [
    "Read Image"
   ]
  },
  {
   "cell_type": "code",
   "execution_count": 2,
   "id": "d35beafa-6313-4020-a57f-cd4c8c675f08",
   "metadata": {},
   "outputs": [],
   "source": [
    "image_path = os.path.join('.', 'img', 'nature.jpg')\n",
    "img = cv2.imread(image_path)"
   ]
  },
  {
   "cell_type": "markdown",
   "id": "d95c7ab4-c3a6-41b6-8f44-0ec13ce9546e",
   "metadata": {},
   "source": [
    "Write Image"
   ]
  },
  {
   "cell_type": "code",
   "execution_count": 3,
   "id": "bf927bb0-5379-46c5-ac59-c7bea2f9642a",
   "metadata": {},
   "outputs": [
    {
     "data": {
      "text/plain": [
       "True"
      ]
     },
     "execution_count": 3,
     "metadata": {},
     "output_type": "execute_result"
    }
   ],
   "source": [
    "cv2.imwrite(os.path.join('.', 'img', 'nature_out.jpg'), img)"
   ]
  },
  {
   "cell_type": "markdown",
   "id": "e8dabd7d-77aa-4428-abf9-c8535978416a",
   "metadata": {},
   "source": [
    "Visualize Image"
   ]
  },
  {
   "cell_type": "code",
   "execution_count": null,
   "id": "d8969b7e-b6b5-41c5-bf52-26305778f0a0",
   "metadata": {},
   "outputs": [],
   "source": [
    "cv2.imshow('image', img) # Show the image\n",
    "cv2.waitKey(5000)        # Wait for 5 seconds\n",
    "cv2.destroyAllWindows()  # Close the window"
   ]
  },
  {
   "cell_type": "markdown",
   "id": "3554718f-a736-4534-a7e3-1a4ad915ec6f",
   "metadata": {},
   "source": [
    "## Videos"
   ]
  },
  {
   "cell_type": "markdown",
   "id": "210d3682-964a-46d5-944b-1f871e3f44b3",
   "metadata": {},
   "source": [
    "Read Video"
   ]
  },
  {
   "cell_type": "code",
   "execution_count": null,
   "id": "2631a2f4-a84d-4697-818b-06e23ec9ce6b",
   "metadata": {},
   "outputs": [],
   "source": [
    "video_path = os.path.join('.', 'video', 'nature.mp4')\n",
    "video = cv2.VideoCapture(video_path)"
   ]
  },
  {
   "cell_type": "markdown",
   "id": "306ebb8d-3123-4261-812b-0283b6f58e05",
   "metadata": {},
   "source": [
    "Visualize Video"
   ]
  },
  {
   "cell_type": "code",
   "execution_count": null,
   "id": "86e225d9-90ef-47bf-ae00-8891195905a9",
   "metadata": {},
   "outputs": [],
   "source": [
    "if not video.isOpened() :\n",
    "    print(\"Error: Could not open video file.\")\n",
    "    exit()\n",
    "    \n",
    "ret = True\n",
    "while ret :\n",
    "    ret, frame = video.read()\n",
    "    if ret :\n",
    "        cv2.imshow('frame', frame)\n",
    "        # cv2.waitKey(40)\n",
    "        if cv2.waitKey(40) & 0xFF == ord('q'): \n",
    "            break\n",
    "\n",
    "# Release resources and close the window\n",
    "video.release()\n",
    "cv2.destroyAllWindows()"
   ]
  },
  {
   "cell_type": "markdown",
   "id": "c8f7c87c-b316-4b71-9a74-3af1ba54df1a",
   "metadata": {},
   "source": [
    "## Webcam"
   ]
  },
  {
   "cell_type": "markdown",
   "id": "335669f9-e2dc-490e-b12c-fa49ea431785",
   "metadata": {},
   "source": [
    "Read Webcam"
   ]
  },
  {
   "cell_type": "code",
   "execution_count": null,
   "id": "2f547b78-8e51-4da6-bf82-4c8e941c420f",
   "metadata": {},
   "outputs": [],
   "source": [
    "webcam = cv2.VideoCapture(0)"
   ]
  },
  {
   "cell_type": "markdown",
   "id": "b896989f-98cb-4336-9043-c37fc4b58b0f",
   "metadata": {},
   "source": [
    "Visualize Wevcam"
   ]
  },
  {
   "cell_type": "code",
   "execution_count": null,
   "id": "b4cafdd9-3bb6-4d11-9264-fbe925fc597a",
   "metadata": {},
   "outputs": [],
   "source": [
    "while True :\n",
    "    ret, frame = webcam.read()\n",
    "    cv2.imshow('frame', frame)\n",
    "    # cv2.waitKey(40) \n",
    "    if cv2.waitKey(40) & 0xFF == ord('q'): \n",
    "            break\n",
    "\n",
    "webcam.release()\n",
    "cv2.destroyAllWindows()"
   ]
  },
  {
   "cell_type": "code",
   "execution_count": null,
   "id": "335f7d28-8d16-454b-ba63-00c0edc2563b",
   "metadata": {},
   "outputs": [],
   "source": []
  }
 ],
 "metadata": {
  "kernelspec": {
   "display_name": "Python 3 (ipykernel)",
   "language": "python",
   "name": "python3"
  },
  "language_info": {
   "codemirror_mode": {
    "name": "ipython",
    "version": 3
   },
   "file_extension": ".py",
   "mimetype": "text/x-python",
   "name": "python",
   "nbconvert_exporter": "python",
   "pygments_lexer": "ipython3",
   "version": "3.12.4"
  }
 },
 "nbformat": 4,
 "nbformat_minor": 5
}
