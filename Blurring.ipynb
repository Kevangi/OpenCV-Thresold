{
 "cells": [
  {
   "cell_type": "code",
   "execution_count": null,
   "id": "631eb318-03a3-4842-b330-7dcee2ece5de",
   "metadata": {},
   "outputs": [],
   "source": [
    "import os\n",
    "import cv2"
   ]
  },
  {
   "cell_type": "code",
   "execution_count": null,
   "id": "b35d69df-4214-4d88-b624-a27144028d0a",
   "metadata": {},
   "outputs": [],
   "source": [
    "img = cv2.imread(os.path.join('.', 'img', 'parrot.jpg'))\n",
    "\n",
    "cv2.namedWindow('img', cv2.WINDOW_NORMAL)\n",
    "cv2.resizeWindow('img', 800, 600)"
   ]
  },
  {
   "cell_type": "code",
   "execution_count": null,
   "id": "b095cdf2-5923-46df-afb9-82653faeb538",
   "metadata": {},
   "outputs": [],
   "source": [
    "k_size = 71                                                        # Kernel size\n",
    "\n",
    "img_blur = cv2.blur(img,(k_size, k_size))                          \n",
    "# Any positive no. take as a kernel size. Here kernel size (kernel_height, kernel_width) defines the region over which pixel value are averaged.\n",
    "# larger the kernel stronger the blur effect\n",
    "\n",
    "img_gaussian_blur = cv2.GaussianBlur(img, (k_size, k_size), 5)   \n",
    "# Here img --> input image\n",
    "#      (k_size, k_size) --> kernel size\n",
    "#                       --> It defines the size of gaussian filter\n",
    "#                       --> It should be odd and positive because a gaussian filter requires a center pixel for symmetry.\n",
    "#                       --> Larger kernel size result in a stronger blur \n",
    "#      5 --> sigmaX (horizontal blur)\n",
    "#        --> Standard deviaion(σ) in the X direction\n",
    "#        --> Determines the spread of the gaussian distribution\n",
    "#        --> A larger sigmaX means more blurring \n",
    "#        --> If set to 0, OpenCV automatically calculates sigma based on kernel size\n",
    "# Here I didn't use paarameter sigmaY which is basically use for blur in y direction (verticle blur). This parameter write after the sigmaX\n",
    "\n",
    "img_median_blur = cv2.medianBlur(img, k_size)                      \n",
    "# Here img --> input image\n",
    "#      k_size --> Kernel size \n",
    "#             --> Defines the size of the neighborhood from which the median value is taken.\n",
    "#             --> must be positive odd integer\n",
    "#             --> larger the kernel size, the stronger thenoise removal effect"
   ]
  },
  {
   "cell_type": "code",
   "execution_count": null,
   "id": "d80ec2b6-e909-49c9-b42b-547620d6f1cf",
   "metadata": {},
   "outputs": [],
   "source": [
    "cv2.namedWindow('img_blur', cv2.WINDOW_NORMAL)\n",
    "cv2.resizeWindow('img_blur', 800, 600)\n",
    "\n",
    "cv2.namedWindow('img_gaussian_blur', cv2.WINDOW_NORMAL)\n",
    "cv2.resizeWindow('img_gaussian_blur', 800, 600)\n",
    "\n",
    "cv2.namedWindow('img_median_blur', cv2.WINDOW_NORMAL)\n",
    "cv2.resizeWindow('img_median_blur', 800, 600)"
   ]
  },
  {
   "cell_type": "code",
   "execution_count": null,
   "id": "944065d6-86a0-469f-9b4e-da5717401bdb",
   "metadata": {},
   "outputs": [],
   "source": [
    "cv2.imshow('img', img)\n",
    "cv2.imshow('img_blur', img_blur)\n",
    "cv2.imshow('img_gaussian_blur', img_gaussian_blur)\n",
    "cv2.imshow('img_median_blur', img_median_blur)\n",
    "cv2.waitKey(0)"
   ]
  },
  {
   "cell_type": "raw",
   "id": "06f6d34e-a599-45ec-8aa0-b43a8d1001ae",
   "metadata": {},
   "source": [
    "Features                Normal Blur                             Gaussian Blur                                Median Blur\n",
    "                        (cv2.blur)                              (cv2.GaussianBlur)                           (cv2.medianBlur)\n",
    "\n",
    "Kernel Type             Box filter (uniform)                    Gaussian filter (weighted)                   Non-linear (median-filter)\n",
    "\n",
    "Smoothing               Simple Blurring                         Smooth, natural blur                         Strong noise removal\n",
    "\n",
    "Edge Preservation       Low (blurs edge)                        Medium (preserve edges better)               High (Best edge preservation)\n",
    "\n",
    "Noise Reduction         Works, but not best                     Best for Gaussian noise                      best for salt-and-pepper noise\n",
    "\n",
    "Speed                   fast                                    Medium                                       Slow (due to sorting pixel)"
   ]
  },
  {
   "cell_type": "code",
   "execution_count": null,
   "id": "d04116d3-dfb5-4078-8256-0b7ea778a228",
   "metadata": {},
   "outputs": [],
   "source": []
  }
 ],
 "metadata": {
  "kernelspec": {
   "display_name": "Python 3 (ipykernel)",
   "language": "python",
   "name": "python3"
  },
  "language_info": {
   "codemirror_mode": {
    "name": "ipython",
    "version": 3
   },
   "file_extension": ".py",
   "mimetype": "text/x-python",
   "name": "python",
   "nbconvert_exporter": "python",
   "pygments_lexer": "ipython3",
   "version": "3.12.4"
  }
 },
 "nbformat": 4,
 "nbformat_minor": 5
}
